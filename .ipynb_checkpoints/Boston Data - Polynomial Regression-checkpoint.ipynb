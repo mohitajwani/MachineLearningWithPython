{
 "cells": [
  {
   "cell_type": "code",
   "execution_count": 1,
   "metadata": {},
   "outputs": [],
   "source": [
    "import numpy as np                       # Numerical Python for Array computation \n",
    "\n",
    "import matplotlib.pyplot as plt          # For Plotting / Visualization \n",
    "\n",
    "import pandas as pd                      # For Data Wrangling / Processing \n",
    "\n",
    "import seaborn as sns                    # For Visualization \n",
    "\n",
    "# Load the Boston Dataset \n",
    "\n",
    "from sklearn.datasets import load_boston\n",
    "\n",
    "boston_dataset = load_boston()"
   ]
  },
  {
   "cell_type": "code",
   "execution_count": 2,
   "metadata": {},
   "outputs": [
    {
     "data": {
      "text/plain": [
       "(506, 13)"
      ]
     },
     "execution_count": 2,
     "metadata": {},
     "output_type": "execute_result"
    }
   ],
   "source": [
    "# Check the shape of the Datset ( which is to check # of Rows & Columns of the Dataset )\n",
    "\n",
    "boston_dataset.data.shape"
   ]
  },
  {
   "cell_type": "code",
   "execution_count": 3,
   "metadata": {},
   "outputs": [],
   "source": [
    "# Create DataFrame , containing only Predictor variables \n",
    "\n",
    "Boston_DF = pd.DataFrame(boston_dataset.data, \n",
    "                         columns=boston_dataset.feature_names)\n",
    "\n",
    "# Add target column to the DataFrame\n",
    "Boston_DF['MEDV'] = boston_dataset.target"
   ]
  },
  {
   "cell_type": "code",
   "execution_count": 15,
   "metadata": {},
   "outputs": [],
   "source": [
    "# Load the Linear Regression Module\n",
    "\n",
    "from sklearn.linear_model import LinearRegression\n",
    "\n",
    "from sklearn.metrics import mean_squared_error, r2_score\n",
    "\n",
    "# Load the Polynomial Features Module\n",
    "\n",
    "from sklearn.preprocessing import PolynomialFeatures"
   ]
  },
  {
   "cell_type": "code",
   "execution_count": 16,
   "metadata": {},
   "outputs": [
    {
     "name": "stdout",
     "output_type": "stream",
     "text": [
      "RMSE of Linear Regression for curved Relation : 10.120437473614711\n",
      "R2 of Linear Regression for curved Relation : 0.8537647164420812\n"
     ]
    }
   ],
   "source": [
    "np.random.seed(0)\n",
    "\n",
    "X_Data = 2 - 3 * np.random.normal(0, 1, 20)\n",
    "\n",
    "Y_Data = ( X_Data - 2 * (X_Data ** 2) + 0.5 * (X_Data ** 3) + \n",
    "           np.random.normal(-3, 3, 20) )\n",
    "\n",
    "# transforming the data to include another axis\n",
    "\n",
    "X_Data = X_Data.reshape((20,1))\n",
    "\n",
    "Y_Data = Y_Data.reshape((20,1))\n",
    "\n",
    "polynomial_features_2= PolynomialFeatures(degree=2)\n",
    "\n",
    "x_poly = polynomial_features_2.fit_transform(X_Data)\n",
    "\n",
    "\n",
    "Poly_Model_Deg_2 = LinearRegression()\n",
    "\n",
    "Poly_Model_Deg_2.fit(x_poly, Y_Data)\n",
    "\n",
    "y_poly_pred = Poly_Model_Deg_2.predict(x_poly)\n",
    "\n",
    "\n",
    "\n",
    "rmse_2 = np.sqrt(mean_squared_error(Y_Data,y_poly_pred))\n",
    "\n",
    "r2_2 = r2_score(Y_Data,y_poly_pred)\n",
    "\n",
    "print(\"RMSE of Linear Regression for curved Relation :\",rmse_2)\n",
    "\n",
    "print(\"R2 of Linear Regression for curved Relation :\",r2_2)"
   ]
  },
  {
   "cell_type": "code",
   "execution_count": null,
   "metadata": {},
   "outputs": [],
   "source": []
  }
 ],
 "metadata": {
  "kernelspec": {
   "display_name": "Python 3",
   "language": "python",
   "name": "python3"
  },
  "language_info": {
   "codemirror_mode": {
    "name": "ipython",
    "version": 3
   },
   "file_extension": ".py",
   "mimetype": "text/x-python",
   "name": "python",
   "nbconvert_exporter": "python",
   "pygments_lexer": "ipython3",
   "version": "3.7.1"
  }
 },
 "nbformat": 4,
 "nbformat_minor": 2
}
